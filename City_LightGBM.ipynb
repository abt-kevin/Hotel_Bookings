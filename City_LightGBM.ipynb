{
 "cells": [
  {
   "cell_type": "code",
   "execution_count": 6,
   "id": "6faae94b",
   "metadata": {},
   "outputs": [],
   "source": [
    "import pandas as pd\n",
    "from sklearn.model_selection import train_test_split\n",
    "from sklearn.metrics import roc_auc_score, classification_report\n",
    "from lightgbm import LGBMClassifier\n",
    "from sklearn.compose import ColumnTransformer\n",
    "from sklearn.preprocessing import OneHotEncoder\n",
    "from sklearn.pipeline import Pipeline"
   ]
  },
  {
   "cell_type": "code",
   "execution_count": 10,
   "id": "3a0695c0",
   "metadata": {},
   "outputs": [],
   "source": [
    "df_city=pd.read_pickle(\"cleaned_city_bookings.pkl\")\n",
    "y = df_city['is_canceled']\n",
    "X = df_city.drop(columns=['is_canceled', 'reservation_status', 'reservation_status_date'])"
   ]
  },
  {
   "cell_type": "code",
   "execution_count": null,
   "id": "81c9d489",
   "metadata": {},
   "outputs": [
    {
     "data": {
      "text/plain": [
       "['lead_time', 'required_car_parking_spaces', 'special_requests_clipped']"
      ]
     },
     "execution_count": 13,
     "metadata": {},
     "output_type": "execute_result"
    }
   ],
   "source": [
    "cat_cols =[\n",
    "    'market_segment',\n",
    "    'distribution_channel',\n",
    "    'deposit_paid',\n",
    "    'got_requested_room_type',\n",
    "    'customer_type',\n",
    "    'country_grouped'\n",
    "    ]\n",
    "\n",
    "num_cols =[\n",
    "    'lead_time',\n",
    "    'required_car_parking_spaces',\n",
    "    'special_requests_clipped',\n",
    "    ]"
   ]
  },
  {
   "cell_type": "code",
   "execution_count": 19,
   "id": "57df3ca0",
   "metadata": {},
   "outputs": [
    {
     "name": "stdout",
     "output_type": "stream",
     "text": [
      "hotel                                   category\n",
      "is_canceled                                int64\n",
      "lead_time                                  int64\n",
      "arrival_date_year                          int64\n",
      "arrival_date_month                        object\n",
      "arrival_date_week_number                   int64\n",
      "arrival_date_day_of_month                  int64\n",
      "stays_in_weekend_nights                    int64\n",
      "stays_in_week_nights                       int64\n",
      "adults                                     int64\n",
      "children                                 float64\n",
      "babies                                     int64\n",
      "meal                                    category\n",
      "country                                   object\n",
      "market_segment                            object\n",
      "distribution_channel                      object\n",
      "is_repeated_guest                          int64\n",
      "previous_cancellations                     int64\n",
      "previous_bookings_not_canceled             int64\n",
      "reserved_room_type                        object\n",
      "assigned_room_type                        object\n",
      "booking_changes                            int64\n",
      "deposit_type                              object\n",
      "agent                                    float64\n",
      "company                                  float64\n",
      "days_in_waiting_list                       int64\n",
      "customer_type                             object\n",
      "adr                                      float64\n",
      "required_car_parking_spaces                int64\n",
      "total_of_special_requests                  int64\n",
      "reservation_status                        object\n",
      "reservation_status_date                   object\n",
      "arrival_date                      datetime64[ns]\n",
      "country_grouped                           object\n",
      "special_requests_clipped                   int64\n",
      "deposit_paid                               int64\n",
      "got_requested_room_type                    int64\n",
      "dtype: object\n"
     ]
    }
   ],
   "source": [
    "print(df_city.dtypes)\n",
    "for col in cat_cols:\n",
    "    df_city[col] = df_city[col].astype('category')\n"
   ]
  }
 ],
 "metadata": {
  "kernelspec": {
   "display_name": ".venv",
   "language": "python",
   "name": "python3"
  },
  "language_info": {
   "codemirror_mode": {
    "name": "ipython",
    "version": 3
   },
   "file_extension": ".py",
   "mimetype": "text/x-python",
   "name": "python",
   "nbconvert_exporter": "python",
   "pygments_lexer": "ipython3",
   "version": "3.13.5"
  }
 },
 "nbformat": 4,
 "nbformat_minor": 5
}
